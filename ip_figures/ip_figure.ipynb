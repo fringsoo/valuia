{
  "cells": [
    {
      "cell_type": "markdown",
      "metadata": {
        "id": "ZjWw2p2pXkQ4"
      },
      "source": [
        "```\n",
        "Copyright 2023 DeepMind Technologies Limited.\n",
        "\n",
        "Licensed under the Apache License, Version 2.0 (the \"License\");\n",
        "you may not use this file except in compliance with the License.\n",
        "You may obtain a copy of the License at\n",
        "\n",
        "    https://www.apache.org/licenses/LICENSE-2.0\n",
        "\n",
        "Unless required by applicable law or agreed to in writing, software\n",
        "distributed under the License is distributed on an \"AS IS\" BASIS,\n",
        "WITHOUT WARRANTIES OR CONDITIONS OF ANY KIND, either express or implied.\n",
        "See the License for the specific language governing permissions and\n",
        "limitations under the License.\n",
        "```"
      ]
    },
    {
      "cell_type": "markdown",
      "metadata": {
        "id": "zWgEkOAO9OVz"
      },
      "source": [
        "# An example implementing the three key questions\n",
        "\n",
        "March and Olsen (2011) posit that humans generally act as though they choose their actions by answering three key questions:\n",
        "\n",
        "1. What kind of situation is this?\n",
        "2. What kind of person am I?\n",
        "3. What does a person such as I do in a situation such as this?\n",
        "\n",
        "The agents used in this example implement these components. The premise of the simulation is that 4 friends are stuck at a snowed in pub. Also, it has just come to light that Alice stole Bob's car and crashed it.\n"
      ]
    },
    {
      "cell_type": "markdown",
      "metadata": {
        "id": "J2TwJrZ08wXz"
      },
      "source": [
        "## Init and import"
      ]
    },
    {
      "cell_type": "code",
      "execution_count": null,
      "metadata": {
        "id": "tkCJgbFFvaAB"
      },
      "outputs": [],
      "source": [
        "#!pip install git+https://github.com/google-deepmind/concordia.git"
      ]
    },
    {
      "cell_type": "code",
      "execution_count": null,
      "metadata": {
        "id": "-qLG5ExLqpWa"
      },
      "outputs": [],
      "source": [
        "# @title Imports\n",
        "\n",
        "import collections\n",
        "import concurrent.futures\n",
        "import datetime\n",
        "\n",
        "import numpy as np\n",
        "import sentence_transformers\n",
        "\n",
        "#from google.colab import widgets  # pytype: disable=import-error\n",
        "from IPython import display\n",
        "\n",
        "from concordia.agents import basic_agent\n",
        "from concordia.components import agent as components\n",
        "from concordia import components as generic_components\n",
        "from concordia.associative_memory import associative_memory\n",
        "from concordia.associative_memory import blank_memories\n",
        "from concordia.associative_memory import formative_memories\n",
        "from concordia.associative_memory import importance_function\n",
        "from concordia.clocks import game_clock\n",
        "from concordia.components import game_master as gm_components\n",
        "from concordia.environment import game_master\n",
        "from concordia.metrics import goal_achievement\n",
        "from concordia.metrics import common_sense_morality\n",
        "from concordia.metrics import opinion_of_others\n",
        "from concordia.utils import html as html_lib\n",
        "from concordia.utils import measurements as measurements_lib\n",
        "from concordia.language_model import gpt_model\n",
        "from concordia.language_model import gcloud_model\n",
        "from concordia.language_model import ollama_model\n",
        "from concordia.language_model import local_llama3_model\n",
        "from concordia.utils import plotting\n"
      ]
    },
    {
      "cell_type": "code",
      "execution_count": null,
      "metadata": {
        "id": "I3OtW8flCJSC"
      },
      "outputs": [],
      "source": [
        "# Setup sentence encoder\n",
        "st_model = sentence_transformers.SentenceTransformer('../all-mpnet-base-v2')\n",
        "embedder = lambda x: st_model.encode(x, show_progress_bar=False)\n"
      ]
    },
    {
      "cell_type": "code",
      "execution_count": null,
      "metadata": {
        "id": "cugwvFIKv5AS"
      },
      "outputs": [],
      "source": [
        "# @title Language Model - pick your model and provide keys\n",
        "CLOUD_PROJECT_ID = '' #@param {type: 'string'}\n",
        "GPT_API_KEY = 'sk-QQ7S86D8zhdjif2D11Ff1f2d81C94dB183Ea6eB7DdF1973a' #@param {type: 'string'}\n",
        "GPT_BASE_URL = 'https://pro.aiskt.com/v1' \n",
        "GPT_MODEL_NAME = 'gpt-4' #@param {type: 'string'}\n",
        "\n",
        "USE_CLOUD = False #@param {type: 'boolean'}\n",
        "\n",
        "# if USE_CLOUD:\n",
        "#   model = gcloud_model.CloudLanguageModel(project_id= CLOUD_PROJECT_ID)\n",
        "# else:\n",
        "#   model = gpt_model.GptLanguageModel(api_key=GPT_API_KEY, base_url=GPT_BASE_URL, model_name=GPT_MODEL_NAME)\n",
        "\n",
        "#model = ollama_model.OllamaLanguageModel('llama3:instruct')\n",
        "model = local_llama3_model.Llama3LanguageModel('../Meta-Llama-3-8B-Instruct',system_message='You are a chatbot who may chat with the user or do tasks like role play according to the instructions.')\n",
        "model.sample_text(\"Who are you?\")\n",
        "#model.sample_text(\"What is the capital of France? \")"
      ]
    },
    {
      "cell_type": "markdown",
      "metadata": {
        "id": "z9HYjZgyakc_"
      },
      "source": [
        "## Configuring the generic knowledge of players and GM."
      ]
    },
    {
      "cell_type": "code",
      "execution_count": null,
      "metadata": {
        "id": "TeVYseoD2WYa"
      },
      "outputs": [],
      "source": [
        "#@title Make the clock\n",
        "time_step = datetime.timedelta(minutes=20)\n",
        "SETUP_TIME = datetime.datetime(hour=20, year=2024, month=10, day=1)\n",
        "\n",
        "START_TIME = datetime.datetime(hour=18, year=2024, month=10, day=2)\n",
        "clock = game_clock.MultiIntervalClock(\n",
        "    start=SETUP_TIME,\n",
        "    step_sizes=[time_step, datetime.timedelta(seconds=10)])\n"
      ]
    },
    {
      "cell_type": "code",
      "execution_count": null,
      "metadata": {
        "id": "h4_gUs6wrjPM"
      },
      "outputs": [],
      "source": [
        "#@title Importance models\n",
        "importance_model = importance_function.AgentImportanceModel(model)\n",
        "importance_model_gm = importance_function.ConstantImportanceModel()\n"
      ]
    },
    {
      "cell_type": "code",
      "execution_count": null,
      "metadata": {
        "id": "b8vWoQ6by51N"
      },
      "outputs": [],
      "source": [
        "# @title Generic memories are memories that all players and GM share.\n",
        "\n",
        "shared_memories = [\n",
        "    ('Donald Trump is the former president and Joe Biden is the current president.'),\n",
        "]\n",
        "\n",
        "# The generic context will be used for the NPC context. It reflects general\n",
        "# knowledge and is possessed by all characters.\n",
        "shared_context = model.sample_text(\n",
        "    'Summarize the following passage in a concise and insightful fashion:\\n'\n",
        "    + '\\n'.join(shared_memories)\n",
        "    + '\\n'\n",
        "    + 'Summary:'\n",
        ")\n",
        "print(shared_context)\n"
      ]
    },
    {
      "cell_type": "markdown",
      "metadata": {
        "id": "qt8CK2mMbD7q"
      },
      "source": [
        "## Configure and build the players\n",
        "\n",
        "---\n",
        "\n"
      ]
    },
    {
      "cell_type": "code",
      "execution_count": null,
      "metadata": {
        "id": "CrmDfTNHCVXC"
      },
      "outputs": [],
      "source": [
        "blank_memory_factory = blank_memories.MemoryFactory(\n",
        "    model=model,\n",
        "    embedder=embedder,\n",
        "    importance=importance_model.importance,\n",
        "    clock_now=clock.now,\n",
        ")\n",
        "\n",
        "formative_memory_factory = formative_memories.FormativeMemoryFactory(\n",
        "    model=model,\n",
        "    shared_memories=shared_memories,\n",
        "    blank_memory_factory_call=blank_memory_factory.make_blank_memory,\n",
        ")"
      ]
    },
    {
      "cell_type": "code",
      "execution_count": null,
      "metadata": {
        "id": "AXnq6aOZ3ukY"
      },
      "outputs": [],
      "source": [
        "#@title Creating character backgrounds, goals and traits. Modify to explore how it influences the outcomes\n",
        "NUM_PLAYERS = 2\n",
        "\n",
        "scenario_premise = [\n",
        "    (\n",
        "        'Donald Trump and Joe Biden are debating against each other on topics like gun violence, climate change, economy, LGBT issues, and relationship with CHINA.'\n",
        "    ),\n",
        "]\n",
        "player_configs = [\n",
        "    formative_memories.AgentConfig(\n",
        "        name='Donald Trump',\n",
        "        gender='male',\n",
        "        goal='Donald Trump wants to be selected as US president again after four years of Joe Biden presidency.',\n",
        "        context=shared_context,\n",
        "        traits='responsibility: mid; aggression: high',\n",
        "    ),\n",
        "    formative_memories.AgentConfig(\n",
        "        name='Joe Biden',\n",
        "        gender='male',\n",
        "        goal='Joe Biden want to win more seat in the congress for the Democracy Party.',\n",
        "        context=shared_context,\n",
        "        traits='responsibility: low; aggression: mid',\n",
        "    ),\n",
        "]"
      ]
    },
    {
      "cell_type": "code",
      "execution_count": null,
      "metadata": {
        "id": "4aS2sY22B1JQ"
      },
      "outputs": [],
      "source": [
        "def build_agent(agent_config,\n",
        "                player_names: list[str],\n",
        "                measurements: measurements_lib.Measurements | None = None):\n",
        "\n",
        "  mem = formative_memory_factory.make_memories(agent_config)\n",
        "\n",
        "  time = generic_components.report_function.ReportFunction(\n",
        "    name='Current time',\n",
        "    function=clock.current_time_interval_str,\n",
        "  )\n",
        "\n",
        "  current_obs = components.observation.Observation(\n",
        "            agent_name=agent_config.name,\n",
        "      clock_now=clock.now,\n",
        "      memory=mem,\n",
        "      timeframe=clock.get_step_size(),\n",
        "      component_name='current observations',\n",
        "  )\n",
        "  summary_obs = components.observation.ObservationSummary(\n",
        "      agent_name=agent_config.name,\n",
        "      model=model,\n",
        "      clock_now=clock.now,\n",
        "      memory=mem,\n",
        "      components=[current_obs],\n",
        "      timeframe_delta_from=datetime.timedelta(hours=4),\n",
        "      timeframe_delta_until=datetime.timedelta(hours=1),\n",
        "      component_name='summary of observations',\n",
        "  )\n",
        "\n",
        "#   self_perception = components.self_perception.SelfPerception(\n",
        "#       name=f'answer to what kind of person is {agent_config.name}',\n",
        "#       model=model,\n",
        "#       memory=mem,\n",
        "#       agent_name=agent_config.name,\n",
        "#       clock_now=clock.now,\n",
        "#   )\n",
        "  situation_perception = components.situation_perception.SituationPerception(\n",
        "      name=(f'answer to what kind of situation is {agent_config.name} in ' +\n",
        "            'right now'),\n",
        "      model=model,\n",
        "      memory=mem,\n",
        "      agent_name=agent_config.name,\n",
        "      components=[current_obs, summary_obs],\n",
        "      clock_now=clock.now,\n",
        "  )\n",
        "#   person_by_situation = components.person_by_situation.PersonBySituation(\n",
        "#       name=(f'answer to what would a person like {agent_config.name} do in a ' +\n",
        "#             'situation like this'),\n",
        "#       model=model,\n",
        "#       memory=mem,\n",
        "#       agent_name=agent_config.name,\n",
        "#       clock_now=clock.now,\n",
        "#       components=[self_perception, situation_perception],\n",
        "#       verbose=True,\n",
        "#   )\n",
        "\n",
        "#   initial_goal_component = generic_components.constant.ConstantComponent(\n",
        "#       state=agent_config.goal)\n",
        "\n",
        "#   persona = generic_components.sequential.Sequential(\n",
        "#       name='persona',\n",
        "#       components=[\n",
        "#           self_perception,\n",
        "#           situation_perception,\n",
        "#           person_by_situation,\n",
        "#       ]\n",
        "#   )\n",
        "\n",
        "  goal_metric = goal_achievement.GoalAchievementMetric(\n",
        "      model=model,\n",
        "      player_name=agent_config.name,\n",
        "      player_goal=agent_config.goal,\n",
        "      clock=clock,\n",
        "      name='Goal Achievement',\n",
        "      measurements=measurements,\n",
        "      channel='goal_achievement',\n",
        "      verbose=False,\n",
        "  )\n",
        "  \n",
        "# #   value_metric = goal_achievement.GoalAchievementMetric(\n",
        "# #       model=model,\n",
        "# #       player_name=agent_config.name,\n",
        "# #       player_goal=agent_config.value,\n",
        "# #       clock=clock,\n",
        "# #       name='Goal Achievement',\n",
        "# #       measurements=measurements,\n",
        "# #       channel='goal_achievement',\n",
        "# #       verbose=False,\n",
        "# #   )\n",
        "  \n",
        "#   morality_metric = common_sense_morality.CommonSenseMoralityMetric(\n",
        "#       model=model,\n",
        "#       player_name=agent_config.name,\n",
        "#       clock=clock,\n",
        "#       name='Morality',\n",
        "#       verbose=False,\n",
        "#       measurements=measurements,\n",
        "#       channel='common_sense_morality',\n",
        "#   )\n",
        "  agent = basic_agent.BasicAgent(\n",
        "      model,\n",
        "      mem,\n",
        "      agent_name=agent_config.name,\n",
        "      clock=clock,\n",
        "      verbose=False,\n",
        "      components=[\n",
        "                  #persona,\n",
        "                  time,\n",
        "                  current_obs,\n",
        "                  situation_perception,\n",
        "                  goal_metric,\n",
        "                  #morality_metric\n",
        "                  ],\n",
        "      update_interval = time_step,\n",
        "      collect_data=True,\n",
        "      )\n",
        "  \n",
        "  reputation_metric = opinion_of_others.OpinionOfOthersMetric(\n",
        "      model=model,\n",
        "      player_name=agent_config.name,\n",
        "      player_names=player_names,\n",
        "      context_fn=agent.state,\n",
        "      clock=clock,\n",
        "      name='Opinion',\n",
        "      verbose=False,\n",
        "      measurements=measurements,\n",
        "      channel='opinion_of_others',\n",
        "      question='What is {opining_player}\\'s opinion of {of_player}?',\n",
        "  )\n",
        "  agent.add_component(reputation_metric)\n",
        "  return agent\n"
      ]
    },
    {
      "cell_type": "code",
      "execution_count": null,
      "metadata": {
        "id": "5RU3ZV4oIknW"
      },
      "outputs": [],
      "source": [
        "player_configs = player_configs[:NUM_PLAYERS]\n",
        "player_names = [player.name for player in player_configs][:NUM_PLAYERS]\n",
        "measurements = measurements_lib.Measurements()\n",
        "\n",
        "players = []\n",
        "\n",
        "\n",
        "for np in range(NUM_PLAYERS):\n",
        "  agent = build_agent(player_configs[np], player_names, measurements)\n",
        "  players.append(agent)\n"
      ]
    },
    {
      "cell_type": "markdown",
      "metadata": {
        "id": "2vt8ggYUrW8M"
      },
      "source": [
        "## Build GM"
      ]
    },
    {
      "cell_type": "code",
      "execution_count": null,
      "metadata": {
        "id": "3W65kHOKQwrv"
      },
      "outputs": [],
      "source": [
        "game_master_memory = associative_memory.AssociativeMemory(\n",
        "   sentence_embedder=embedder,\n",
        "   importance=importance_model_gm.importance,\n",
        "   clock=clock.now)"
      ]
    },
    {
      "cell_type": "code",
      "execution_count": null,
      "metadata": {
        "id": "-cxivChc633z"
      },
      "outputs": [],
      "source": [
        "# @title Create components of the Game Master\n",
        "player_names = [player.name for player in players]\n",
        "\n",
        "snowed_in_construct = generic_components.constant.ConstantComponent(\n",
        "    state=(\n",
        "        'The debate is open towards global media and publics and addresses billions of attentions.'),\n",
        "    name='Fact')\n",
        "scenario_knowledge = generic_components.constant.ConstantComponent(\n",
        "    state=' '.join(shared_memories),\n",
        "    name='Background')\n",
        "\n",
        "player_status = gm_components.player_status.PlayerStatus(\n",
        "    clock_now=clock.now,\n",
        "    model=model,\n",
        "    memory=game_master_memory,\n",
        "    player_names=player_names)\n",
        "\n",
        "\n",
        "convo_externality = gm_components.conversation.Conversation(\n",
        "    players=players,\n",
        "    model=model,\n",
        "    memory=game_master_memory,\n",
        "    clock=clock,\n",
        "    burner_memory_factory=blank_memory_factory,\n",
        "    components=[player_status, snowed_in_construct],\n",
        "    cap_nonplayer_characters=3,\n",
        "    shared_context=shared_context,\n",
        "    verbose=False,\n",
        ")\n",
        "\n",
        "direct_effect_externality = gm_components.direct_effect.DirectEffect(\n",
        "    players=players,\n",
        "    model=model,\n",
        "    memory=game_master_memory,\n",
        "    clock_now=clock.now,\n",
        "    verbose=False,\n",
        "    components=[player_status]\n",
        ")\n",
        "\n",
        "relevant_events = gm_components.relevant_events.RelevantEvents(\n",
        "    clock.now, model, game_master_memory)\n",
        "time_display = gm_components.time_display.TimeDisplay(clock)\n"
      ]
    },
    {
      "cell_type": "code",
      "execution_count": null,
      "metadata": {
        "id": "d_R2BVNOsAwa"
      },
      "outputs": [],
      "source": [
        "# @title Create the game master object\n",
        "env = game_master.GameMaster(\n",
        "    model=model,\n",
        "    memory=game_master_memory,\n",
        "    clock=clock,\n",
        "    players=players,\n",
        "    components=[\n",
        "        snowed_in_construct,\n",
        "        scenario_knowledge,\n",
        "        player_status,\n",
        "        convo_externality,\n",
        "        direct_effect_externality,\n",
        "        relevant_events,\n",
        "        time_display,\n",
        "    ],\n",
        "    randomise_initiative=True,\n",
        "    player_observes_event=False,\n",
        "    verbose=True,\n",
        ")"
      ]
    },
    {
      "cell_type": "code",
      "execution_count": null,
      "metadata": {
        "id": "LXykV_TdwfKq"
      },
      "outputs": [],
      "source": []
    },
    {
      "cell_type": "markdown",
      "metadata": {
        "id": "d2u0bQ1MSCGd"
      },
      "source": [
        "## The RUN"
      ]
    },
    {
      "cell_type": "code",
      "execution_count": null,
      "metadata": {
        "id": "hdTRDaxEZZnN"
      },
      "outputs": [],
      "source": [
        "clock.set(START_TIME)"
      ]
    },
    {
      "cell_type": "code",
      "execution_count": null,
      "metadata": {
        "id": "9IggLF1aH_hF"
      },
      "outputs": [],
      "source": [
        "for premise in scenario_premise:\n",
        "  game_master_memory.add(premise)\n",
        "  for player in players:\n",
        "    player.observe(premise)\n"
      ]
    },
    {
      "cell_type": "code",
      "execution_count": null,
      "metadata": {
        "id": "2Bt87stq76gF"
      },
      "outputs": [],
      "source": [
        "# @title Expect about 2-3 minutes per step.\n",
        "episode_length = 5  # @param {type: 'integer'}\n",
        "for _ in range(episode_length):\n",
        "  env.step()\n"
      ]
    },
    {
      "cell_type": "markdown",
      "metadata": {
        "id": "DnwvpvQ4bnFs"
      },
      "source": [
        "## Summary and analysis of the episode"
      ]
    },
    {
      "cell_type": "code",
      "execution_count": null,
      "metadata": {
        "id": "5U5FDXvs4HSr"
      },
      "outputs": [],
      "source": [
        "# @title Metrics plotting\n",
        "\n",
        "# group_by = collections.defaultdict(lambda: 'player')\n",
        "# group_by['opinion_of_others'] = 'of_player'\n",
        "\n",
        "# tb = widgets.TabBar([channel for channel in measurements.available_channels()])\n",
        "# for channel in measurements.available_channels():\n",
        "#   with tb.output_to(channel):\n",
        "#     plotting.plot_line_measurement_channel(measurements, channel,\n",
        "#                                            group_by=group_by[channel],\n",
        "#                                            xaxis='time_str')"
      ]
    },
    {
      "cell_type": "markdown",
      "metadata": {
        "id": "j71OiuPot5UV"
      },
      "source": [
        "## Save results"
      ]
    },
    {
      "cell_type": "code",
      "execution_count": null,
      "metadata": {
        "id": "O4jp0xGXvOAJ"
      },
      "outputs": [],
      "source": [
        "# # @title Summarize the entire story.\n",
        "# all_gm_memories = env._memory.retrieve_recent(k=10000, add_time=True)\n",
        "\n",
        "# detailed_story = '\\n'.join(all_gm_memories)\n",
        "# print('len(detailed_story): ', len(detailed_story))\n",
        "# # print(detailed_story)\n",
        "\n",
        "# episode_summary = model.sample_text(\n",
        "#     f'Sequence of events:\\n{detailed_story}'+\n",
        "#     '\\nNarratively summarize the above temporally ordered ' +\n",
        "#     'sequence of events. Write it as a news report. Summary:\\n',\n",
        "#     max_characters=3500, max_tokens=3500, terminators=())\n",
        "# print(episode_summary)"
      ]
    },
    {
      "cell_type": "code",
      "execution_count": null,
      "metadata": {
        "id": "ALG987t-6j-V"
      },
      "outputs": [],
      "source": [
        "# # @title Summarise the perspective of each player\n",
        "# player_logs = []\n",
        "# player_log_names = []\n",
        "# for player in players:\n",
        "#   name = player.name\n",
        "#   detailed_story = '\\n'.join(player._memory.retrieve_recent(k=1000,\n",
        "#                                                             add_time=True))\n",
        "#   summary = ''\n",
        "#   summary = model.sample_text(\n",
        "#       f'Sequence of events that happened to {name}:\\n{detailed_story}'\n",
        "#       '\\nWrite a short story that summarises these events.\\n'\n",
        "#       ,\n",
        "#       max_characters=3500, max_tokens=3500, terminators=())\n",
        "\n",
        "#   all_player_mem = player._memory.retrieve_recent(k=1000, add_time=True)\n",
        "#   all_player_mem = ['Summary:', summary, 'Memories:'] + all_player_mem\n",
        "#   player_html = html_lib.PythonObjectToHTMLConverter(all_player_mem).convert()\n",
        "#   player_logs.append(player_html)\n",
        "#   player_log_names.append(f'{name}')\n"
      ]
    },
    {
      "cell_type": "markdown",
      "metadata": {
        "id": "UmPOvjVxddye"
      },
      "source": [
        "#Build and display HTML log of the experiment"
      ]
    },
    {
      "cell_type": "code",
      "execution_count": null,
      "metadata": {
        "id": "JyEoGgI05xI0"
      },
      "outputs": [],
      "source": [
        "# history_sources = [env, direct_effect_externality, convo_externality]\n",
        "# histories_html = [\n",
        "#     html_lib.PythonObjectToHTMLConverter(history.get_history()).convert()\n",
        "#     for history in history_sources]\n",
        "# histories_names = [history.name() for history in history_sources]"
      ]
    },
    {
      "cell_type": "code",
      "execution_count": null,
      "metadata": {
        "id": "XNJuo4Dwt5Ui"
      },
      "outputs": [],
      "source": [
        "# gm_mem_html = html_lib.PythonObjectToHTMLConverter(all_gm_memories).convert()\n",
        "\n",
        "# tabbed_html = html_lib.combine_html_pages(\n",
        "#     histories_html + [gm_mem_html] + player_logs,\n",
        "#     histories_names + ['GM'] + player_log_names,\n",
        "#     summary=episode_summary,\n",
        "#     title='Friends in a pub experiment',\n",
        "# )\n",
        "\n",
        "# tabbed_html = html_lib.finalise_html(tabbed_html)"
      ]
    },
    {
      "cell_type": "code",
      "execution_count": null,
      "metadata": {
        "id": "pumxvmrzANOq"
      },
      "outputs": [],
      "source": [
        "# display.HTML(tabbed_html)"
      ]
    },
    {
      "cell_type": "markdown",
      "metadata": {
        "id": "HX-M9Im_dneG"
      },
      "source": [
        "#Interact with a specific player"
      ]
    },
    {
      "cell_type": "code",
      "execution_count": null,
      "metadata": {
        "id": "ESJ1l7_Kt5Uj"
      },
      "outputs": [],
      "source": [
        "# sim_to_interact = 'Alice'  # @param ['Alice', 'Bob','Charlie', 'Dorothy', 'Ellen'] {type:\"string\"}\n",
        "# user_identity = 'a close friend'  # @param {type:\"string\"}\n",
        "# interaction_premise = f'{sim_to_interact} is talking to {user_identity}\\n'  # @param {type:\"string\"}\n",
        "\n",
        "# player_names = [player.name for player in players]\n",
        "# player_by_name = {player.name: player for player in players}\n",
        "# selected_player = player_by_name[sim_to_interact]\n",
        "# interrogation = interaction_premise"
      ]
    },
    {
      "cell_type": "code",
      "execution_count": null,
      "metadata": {
        "id": "5Q1cYflLt5Uj"
      },
      "outputs": [],
      "source": [
        "# utterence_from_user = 'Did Bob accept your apology?'  # @param {type:\"string\"}\n",
        "\n",
        "# interrogation += f'{user_identity}: {utterence_from_user}'\n",
        "# player_says = selected_player.say(interrogation)\n",
        "# interrogation += f'\\n{sim_to_interact}: {player_says}\\n'\n",
        "# print(interrogation)"
      ]
    },
    {
      "cell_type": "code",
      "execution_count": null,
      "metadata": {
        "id": "2r2hYPV-GiEn"
      },
      "outputs": [],
      "source": []
    },
    {
      "cell_type": "code",
      "execution_count": null,
      "metadata": {
        "id": "hN690yOJQZUw"
      },
      "outputs": [],
      "source": []
    }
  ],
  "metadata": {
    "colab": {
      "last_runtime": {
        "build_target": "",
        "kind": "private"
      },
      "private_outputs": true,
      "provenance": [],
      "toc_visible": true
    },
    "kernelspec": {
      "display_name": "Python 3",
      "name": "python3"
    },
    "language_info": {
      "codemirror_mode": {
        "name": "ipython",
        "version": 3
      },
      "file_extension": ".py",
      "mimetype": "text/x-python",
      "name": "python",
      "nbconvert_exporter": "python",
      "pygments_lexer": "ipython3",
      "version": "3.11.9"
    }
  },
  "nbformat": 4,
  "nbformat_minor": 0
}
